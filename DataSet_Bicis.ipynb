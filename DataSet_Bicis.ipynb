{
 "cells": [
  {
   "cell_type": "code",
   "execution_count": 1,
   "id": "aa6c3a95-4668-4180-b4f0-d651cef8f179",
   "metadata": {},
   "outputs": [],
   "source": [
    "import csv\n",
    "import pandas as pd\n",
    "import sqlalchemy\n",
    "from sqlalchemy.ext.automap import automap_base\n",
    "from sqlalchemy.orm import Session\n",
    "from sqlalchemy import create_engine, func"
   ]
  },
  {
   "cell_type": "code",
   "execution_count": 2,
   "id": "6a00b1bc-b05d-47b5-96d8-819d4602506a",
   "metadata": {
    "tags": []
   },
   "outputs": [
    {
     "name": "stderr",
     "output_type": "stream",
     "text": [
      "/tmp/ipykernel_6781/3636871850.py:3: DtypeWarning: Columns (17,18) have mixed types. Specify dtype option on import or set low_memory=False.\n",
      "  Bicis_Ciudad_2021 = pd.read_csv(\"trips_2021.csv\", index_col=0)\n"
     ]
    }
   ],
   "source": [
    "Bicis_Ciudad_2019 = pd.read_csv(\"trips_2019.csv\", index_col=0)\n",
    "Bicis_Ciudad_2020 = pd.read_csv(\"trips_2020.csv\", index_col=0)\n",
    "Bicis_Ciudad_2021 = pd.read_csv(\"trips_2021.csv\", index_col=0)\n",
    "Bicis_Ciudad_2022 = pd.read_csv(\"trips_2022.csv\", index_col=0)\n",
    "Bicis_Ciudad_2023 = pd.read_csv(\"trips_2023.csv\", index_col=0)"
   ]
  },
  {
   "cell_type": "code",
   "execution_count": 3,
   "id": "a5b62d6e-3b78-4b5a-9471-4777294537c6",
   "metadata": {
    "tags": []
   },
   "outputs": [
    {
     "data": {
      "text/plain": [
       "Id_recorrido                  False\n",
       "duracion_recorrido            False\n",
       "fecha_origen_recorrido        False\n",
       "id_estacion_origen            False\n",
       "nombre_estacion_origen        False\n",
       "direccion_estacion_origen     False\n",
       "long_estacion_origen          False\n",
       "lat_estacion_origen           False\n",
       "fecha_destino_recorrido       False\n",
       "id_estacion_destino            True\n",
       "nombre_estacion_destino        True\n",
       "direccion_estacion_destino     True\n",
       "long_estacion_destino          True\n",
       "lat_estacion_destino           True\n",
       "id_usuario                    False\n",
       "modelo_bicicleta              False\n",
       "género                         True\n",
       "dtype: bool"
      ]
     },
     "execution_count": 3,
     "metadata": {},
     "output_type": "execute_result"
    }
   ],
   "source": [
    "Bicis_Ciudad_2019.isnull().any()"
   ]
  },
  {
   "cell_type": "code",
   "execution_count": 4,
   "id": "8b13818d-60e9-4bb0-95a0-feb1bd3fe3b7",
   "metadata": {},
   "outputs": [],
   "source": [
    "Bicis_Ciudad_2019.dropna(how='any',inplace=True)"
   ]
  },
  {
   "cell_type": "code",
   "execution_count": 5,
   "id": "330dc3c4-58c9-4eda-9658-ee43603e8dbd",
   "metadata": {},
   "outputs": [
    {
     "data": {
      "text/plain": [
       "Id_recorrido                  False\n",
       "duracion_recorrido            False\n",
       "fecha_origen_recorrido        False\n",
       "id_estacion_origen            False\n",
       "nombre_estacion_origen        False\n",
       "direccion_estacion_origen     False\n",
       "long_estacion_origen          False\n",
       "lat_estacion_origen           False\n",
       "fecha_destino_recorrido       False\n",
       "id_estacion_destino           False\n",
       "nombre_estacion_destino       False\n",
       "direccion_estacion_destino    False\n",
       "long_estacion_destino         False\n",
       "lat_estacion_destino          False\n",
       "id_usuario                    False\n",
       "modelo_bicicleta              False\n",
       "género                        False\n",
       "dtype: bool"
      ]
     },
     "execution_count": 5,
     "metadata": {},
     "output_type": "execute_result"
    }
   ],
   "source": [
    "Bicis_Ciudad_2019.isnull().any()"
   ]
  },
  {
   "cell_type": "code",
   "execution_count": 6,
   "id": "1ba0e8a2-71ae-480d-bb8b-22581a96ca45",
   "metadata": {},
   "outputs": [
    {
     "name": "stdout",
     "output_type": "stream",
     "text": [
      "<class 'pandas.core.frame.DataFrame'>\n",
      "Int64Index: 6121684 entries, 1 to 6217004\n",
      "Data columns (total 17 columns):\n",
      " #   Column                      Dtype  \n",
      "---  ------                      -----  \n",
      " 0   Id_recorrido                object \n",
      " 1   duracion_recorrido          object \n",
      " 2   fecha_origen_recorrido      object \n",
      " 3   id_estacion_origen          object \n",
      " 4   nombre_estacion_origen      object \n",
      " 5   direccion_estacion_origen   object \n",
      " 6   long_estacion_origen        float64\n",
      " 7   lat_estacion_origen         float64\n",
      " 8   fecha_destino_recorrido     object \n",
      " 9   id_estacion_destino         object \n",
      " 10  nombre_estacion_destino     object \n",
      " 11  direccion_estacion_destino  object \n",
      " 12  long_estacion_destino       float64\n",
      " 13  lat_estacion_destino        object \n",
      " 14  id_usuario                  object \n",
      " 15  modelo_bicicleta            object \n",
      " 16  género                      object \n",
      "dtypes: float64(3), object(14)\n",
      "memory usage: 840.7+ MB\n"
     ]
    }
   ],
   "source": [
    "Bicis_Ciudad_2019.info()"
   ]
  },
  {
   "cell_type": "code",
   "execution_count": 7,
   "id": "c35ce7cf-a356-44c3-a5e7-c72e7d91c6dd",
   "metadata": {
    "tags": []
   },
   "outputs": [
    {
     "data": {
      "text/plain": [
       "Id_recorrido                  False\n",
       "duracion_recorrido            False\n",
       "fecha_origen_recorrido        False\n",
       "id_estacion_origen            False\n",
       "nombre_estacion_origen        False\n",
       "direccion_estacion_origen     False\n",
       "long_estacion_origen          False\n",
       "lat_estacion_origen           False\n",
       "fecha_destino_recorrido       False\n",
       "id_estacion_destino            True\n",
       "nombre_estacion_destino        True\n",
       "direccion_estacion_destino     True\n",
       "long_estacion_destino          True\n",
       "lat_estacion_destino           True\n",
       "id_usuario                    False\n",
       "modelo_bicicleta              False\n",
       "género                         True\n",
       "dtype: bool"
      ]
     },
     "execution_count": 7,
     "metadata": {},
     "output_type": "execute_result"
    }
   ],
   "source": [
    "Bicis_Ciudad_2020.isnull().any()"
   ]
  },
  {
   "cell_type": "code",
   "execution_count": 8,
   "id": "2766d6ec-650d-4769-9546-f414d31567a2",
   "metadata": {
    "tags": []
   },
   "outputs": [],
   "source": [
    "Bicis_Ciudad_2020.dropna(how='any',inplace=True)"
   ]
  },
  {
   "cell_type": "code",
   "execution_count": 9,
   "id": "fff2fdea-fd80-4f3a-a1e3-efcb8dc42680",
   "metadata": {},
   "outputs": [
    {
     "data": {
      "text/plain": [
       "Id_recorrido                  False\n",
       "duracion_recorrido            False\n",
       "fecha_origen_recorrido        False\n",
       "id_estacion_origen            False\n",
       "nombre_estacion_origen        False\n",
       "direccion_estacion_origen     False\n",
       "long_estacion_origen          False\n",
       "lat_estacion_origen           False\n",
       "fecha_destino_recorrido       False\n",
       "id_estacion_destino           False\n",
       "nombre_estacion_destino       False\n",
       "direccion_estacion_destino    False\n",
       "long_estacion_destino         False\n",
       "lat_estacion_destino          False\n",
       "id_usuario                    False\n",
       "modelo_bicicleta              False\n",
       "género                        False\n",
       "dtype: bool"
      ]
     },
     "execution_count": 9,
     "metadata": {},
     "output_type": "execute_result"
    }
   ],
   "source": [
    "Bicis_Ciudad_2020.isnull().any()"
   ]
  },
  {
   "cell_type": "code",
   "execution_count": 10,
   "id": "657933a9-b2f7-4d60-a20b-9b160313b5fd",
   "metadata": {},
   "outputs": [
    {
     "name": "stdout",
     "output_type": "stream",
     "text": [
      "<class 'pandas.core.frame.DataFrame'>\n",
      "Int64Index: 2398401 entries, 1 to 2415597\n",
      "Data columns (total 17 columns):\n",
      " #   Column                      Dtype  \n",
      "---  ------                      -----  \n",
      " 0   Id_recorrido                object \n",
      " 1   duracion_recorrido          object \n",
      " 2   fecha_origen_recorrido      object \n",
      " 3   id_estacion_origen          object \n",
      " 4   nombre_estacion_origen      object \n",
      " 5   direccion_estacion_origen   object \n",
      " 6   long_estacion_origen        float64\n",
      " 7   lat_estacion_origen         float64\n",
      " 8   fecha_destino_recorrido     object \n",
      " 9   id_estacion_destino         object \n",
      " 10  nombre_estacion_destino     object \n",
      " 11  direccion_estacion_destino  object \n",
      " 12  long_estacion_destino       float64\n",
      " 13  lat_estacion_destino        object \n",
      " 14  id_usuario                  object \n",
      " 15  modelo_bicicleta            object \n",
      " 16  género                      object \n",
      "dtypes: float64(3), object(14)\n",
      "memory usage: 329.4+ MB\n"
     ]
    }
   ],
   "source": [
    "Bicis_Ciudad_2020.info()"
   ]
  },
  {
   "cell_type": "code",
   "execution_count": 11,
   "id": "c2fbea8c-247c-44d8-88e4-9744d990725b",
   "metadata": {},
   "outputs": [
    {
     "name": "stdout",
     "output_type": "stream",
     "text": [
      "<class 'pandas.core.frame.DataFrame'>\n",
      "Int64Index: 2860091 entries, 1 to 2860091\n",
      "Data columns (total 18 columns):\n",
      " #   Column                      Dtype  \n",
      "---  ------                      -----  \n",
      " 0   Id_recorrido                object \n",
      " 1   duracion_recorrido          object \n",
      " 2   fecha_origen_recorrido      object \n",
      " 3   id_estacion_origen          object \n",
      " 4   nombre_estacion_origen      object \n",
      " 5   direccion_estacion_origen   object \n",
      " 6   long_estacion_origen        float64\n",
      " 7   lat_estacion_origen         float64\n",
      " 8   fecha_destino_recorrido     object \n",
      " 9   id_estacion_destino         object \n",
      " 10  nombre_estacion_destino     object \n",
      " 11  direccion_estacion_destino  object \n",
      " 12  long_estacion_destino       float64\n",
      " 13  lat_estacion_destino        object \n",
      " 14  id_usuario                  object \n",
      " 15  modelo_bicicleta            object \n",
      " 16  género                      object \n",
      " 17  Género                      object \n",
      "dtypes: float64(3), object(15)\n",
      "memory usage: 414.6+ MB\n"
     ]
    }
   ],
   "source": [
    "Bicis_Ciudad_2021.info()"
   ]
  },
  {
   "cell_type": "code",
   "execution_count": 12,
   "id": "f18e36e1-3153-4e0d-b274-b4cbd969f5fd",
   "metadata": {},
   "outputs": [],
   "source": [
    "Bicis_Ciudad_2021.drop('Género', axis = 1, inplace = True)"
   ]
  },
  {
   "cell_type": "code",
   "execution_count": 13,
   "id": "00a59d49-08ac-4198-9a1d-8fc1627c04d5",
   "metadata": {},
   "outputs": [
    {
     "name": "stdout",
     "output_type": "stream",
     "text": [
      "<class 'pandas.core.frame.DataFrame'>\n",
      "Int64Index: 2860091 entries, 1 to 2860091\n",
      "Data columns (total 17 columns):\n",
      " #   Column                      Dtype  \n",
      "---  ------                      -----  \n",
      " 0   Id_recorrido                object \n",
      " 1   duracion_recorrido          object \n",
      " 2   fecha_origen_recorrido      object \n",
      " 3   id_estacion_origen          object \n",
      " 4   nombre_estacion_origen      object \n",
      " 5   direccion_estacion_origen   object \n",
      " 6   long_estacion_origen        float64\n",
      " 7   lat_estacion_origen         float64\n",
      " 8   fecha_destino_recorrido     object \n",
      " 9   id_estacion_destino         object \n",
      " 10  nombre_estacion_destino     object \n",
      " 11  direccion_estacion_destino  object \n",
      " 12  long_estacion_destino       float64\n",
      " 13  lat_estacion_destino        object \n",
      " 14  id_usuario                  object \n",
      " 15  modelo_bicicleta            object \n",
      " 16  género                      object \n",
      "dtypes: float64(3), object(14)\n",
      "memory usage: 392.8+ MB\n"
     ]
    }
   ],
   "source": [
    "Bicis_Ciudad_2021.info()"
   ]
  },
  {
   "cell_type": "code",
   "execution_count": 14,
   "id": "62d6d280-8a23-4d11-9d48-c458d6aad851",
   "metadata": {
    "tags": []
   },
   "outputs": [
    {
     "data": {
      "text/plain": [
       "Id_recorrido                  False\n",
       "duracion_recorrido            False\n",
       "fecha_origen_recorrido        False\n",
       "id_estacion_origen            False\n",
       "nombre_estacion_origen        False\n",
       "direccion_estacion_origen     False\n",
       "long_estacion_origen          False\n",
       "lat_estacion_origen           False\n",
       "fecha_destino_recorrido       False\n",
       "id_estacion_destino           False\n",
       "nombre_estacion_destino       False\n",
       "direccion_estacion_destino    False\n",
       "long_estacion_destino         False\n",
       "lat_estacion_destino          False\n",
       "id_usuario                    False\n",
       "modelo_bicicleta              False\n",
       "género                         True\n",
       "dtype: bool"
      ]
     },
     "execution_count": 14,
     "metadata": {},
     "output_type": "execute_result"
    }
   ],
   "source": [
    "Bicis_Ciudad_2021.isnull().any()"
   ]
  },
  {
   "cell_type": "code",
   "execution_count": 15,
   "id": "83067a6f-0e88-41de-8945-1f23477c0dad",
   "metadata": {},
   "outputs": [],
   "source": [
    "Bicis_Ciudad_2021.dropna(how='any',inplace=True)"
   ]
  },
  {
   "cell_type": "code",
   "execution_count": 16,
   "id": "457bc9e8-5150-4549-8049-f0b78124f5d1",
   "metadata": {},
   "outputs": [
    {
     "data": {
      "text/plain": [
       "Id_recorrido                  False\n",
       "duracion_recorrido            False\n",
       "fecha_origen_recorrido        False\n",
       "id_estacion_origen            False\n",
       "nombre_estacion_origen        False\n",
       "direccion_estacion_origen     False\n",
       "long_estacion_origen          False\n",
       "lat_estacion_origen           False\n",
       "fecha_destino_recorrido       False\n",
       "id_estacion_destino           False\n",
       "nombre_estacion_destino       False\n",
       "direccion_estacion_destino    False\n",
       "long_estacion_destino         False\n",
       "lat_estacion_destino          False\n",
       "id_usuario                    False\n",
       "modelo_bicicleta              False\n",
       "género                        False\n",
       "dtype: bool"
      ]
     },
     "execution_count": 16,
     "metadata": {},
     "output_type": "execute_result"
    }
   ],
   "source": [
    "Bicis_Ciudad_2021.isnull().any()"
   ]
  },
  {
   "cell_type": "code",
   "execution_count": 17,
   "id": "a9298a08-ba92-42de-b317-0898052582e3",
   "metadata": {},
   "outputs": [
    {
     "name": "stdout",
     "output_type": "stream",
     "text": [
      "<class 'pandas.core.frame.DataFrame'>\n",
      "Int64Index: 1297985 entries, 1 to 1306325\n",
      "Data columns (total 17 columns):\n",
      " #   Column                      Non-Null Count    Dtype  \n",
      "---  ------                      --------------    -----  \n",
      " 0   Id_recorrido                1297985 non-null  object \n",
      " 1   duracion_recorrido          1297985 non-null  object \n",
      " 2   fecha_origen_recorrido      1297985 non-null  object \n",
      " 3   id_estacion_origen          1297985 non-null  object \n",
      " 4   nombre_estacion_origen      1297985 non-null  object \n",
      " 5   direccion_estacion_origen   1297985 non-null  object \n",
      " 6   long_estacion_origen        1297985 non-null  float64\n",
      " 7   lat_estacion_origen         1297985 non-null  float64\n",
      " 8   fecha_destino_recorrido     1297985 non-null  object \n",
      " 9   id_estacion_destino         1297985 non-null  object \n",
      " 10  nombre_estacion_destino     1297985 non-null  object \n",
      " 11  direccion_estacion_destino  1297985 non-null  object \n",
      " 12  long_estacion_destino       1297985 non-null  float64\n",
      " 13  lat_estacion_destino        1297985 non-null  object \n",
      " 14  id_usuario                  1297985 non-null  object \n",
      " 15  modelo_bicicleta            1297985 non-null  object \n",
      " 16  género                      1297985 non-null  object \n",
      "dtypes: float64(3), object(14)\n",
      "memory usage: 178.3+ MB\n"
     ]
    }
   ],
   "source": [
    "Bicis_Ciudad_2021.info()"
   ]
  },
  {
   "cell_type": "code",
   "execution_count": 18,
   "id": "3dc28f89-73f8-41cf-b8d8-91722b064994",
   "metadata": {},
   "outputs": [
    {
     "data": {
      "text/plain": [
       "X                             False\n",
       "Id_recorrido                  False\n",
       "duracion_recorrido            False\n",
       "fecha_origen_recorrido        False\n",
       "id_estacion_origen            False\n",
       "nombre_estacion_origen        False\n",
       "direccion_estacion_origen     False\n",
       "long_estacion_origen          False\n",
       "lat_estacion_origen           False\n",
       "fecha_destino_recorrido       False\n",
       "id_estacion_destino           False\n",
       "nombre_estacion_destino       False\n",
       "direccion_estacion_destino    False\n",
       "long_estacion_destino         False\n",
       "lat_estacion_destino          False\n",
       "id_usuario                    False\n",
       "modelo_bicicleta              False\n",
       "Género                         True\n",
       "dtype: bool"
      ]
     },
     "execution_count": 18,
     "metadata": {},
     "output_type": "execute_result"
    }
   ],
   "source": [
    "Bicis_Ciudad_2022.isnull().any()"
   ]
  },
  {
   "cell_type": "code",
   "execution_count": 19,
   "id": "aa95c8b7-3f85-45f7-a1cb-1a79e68d3006",
   "metadata": {},
   "outputs": [],
   "source": [
    "Bicis_Ciudad_2022.drop('X', axis = 1, inplace = True)"
   ]
  },
  {
   "cell_type": "code",
   "execution_count": 20,
   "id": "1b5270f4-e65c-4bf4-9b90-5379850974f0",
   "metadata": {},
   "outputs": [],
   "source": [
    "Bicis_Ciudad_2022.rename(columns = {\"Género\": \"género\"}, inplace = True)"
   ]
  },
  {
   "cell_type": "code",
   "execution_count": 21,
   "id": "5d236f62-ab0f-48b5-9caa-7d3135251138",
   "metadata": {},
   "outputs": [],
   "source": [
    "Bicis_Ciudad_2022.dropna(how='any',inplace=True)"
   ]
  },
  {
   "cell_type": "code",
   "execution_count": 22,
   "id": "3b0810da-fa31-4150-8fbb-69659fb1c13c",
   "metadata": {},
   "outputs": [
    {
     "data": {
      "text/plain": [
       "Id_recorrido                  False\n",
       "duracion_recorrido            False\n",
       "fecha_origen_recorrido        False\n",
       "id_estacion_origen            False\n",
       "nombre_estacion_origen        False\n",
       "direccion_estacion_origen     False\n",
       "long_estacion_origen          False\n",
       "lat_estacion_origen           False\n",
       "fecha_destino_recorrido       False\n",
       "id_estacion_destino           False\n",
       "nombre_estacion_destino       False\n",
       "direccion_estacion_destino    False\n",
       "long_estacion_destino         False\n",
       "lat_estacion_destino          False\n",
       "id_usuario                    False\n",
       "modelo_bicicleta              False\n",
       "género                        False\n",
       "dtype: bool"
      ]
     },
     "execution_count": 22,
     "metadata": {},
     "output_type": "execute_result"
    }
   ],
   "source": [
    "Bicis_Ciudad_2022.isnull().any()"
   ]
  },
  {
   "cell_type": "code",
   "execution_count": 23,
   "id": "5ea1f05a-c63b-41a3-8f11-59747159bf13",
   "metadata": {},
   "outputs": [
    {
     "name": "stdout",
     "output_type": "stream",
     "text": [
      "<class 'pandas.core.frame.DataFrame'>\n",
      "Int64Index: 2906499 entries, 1 to 2922805\n",
      "Data columns (total 17 columns):\n",
      " #   Column                      Dtype  \n",
      "---  ------                      -----  \n",
      " 0   Id_recorrido                object \n",
      " 1   duracion_recorrido          object \n",
      " 2   fecha_origen_recorrido      object \n",
      " 3   id_estacion_origen          object \n",
      " 4   nombre_estacion_origen      object \n",
      " 5   direccion_estacion_origen   object \n",
      " 6   long_estacion_origen        float64\n",
      " 7   lat_estacion_origen         float64\n",
      " 8   fecha_destino_recorrido     object \n",
      " 9   id_estacion_destino         object \n",
      " 10  nombre_estacion_destino     object \n",
      " 11  direccion_estacion_destino  object \n",
      " 12  long_estacion_destino       float64\n",
      " 13  lat_estacion_destino        float64\n",
      " 14  id_usuario                  object \n",
      " 15  modelo_bicicleta            object \n",
      " 16  género                      object \n",
      "dtypes: float64(4), object(13)\n",
      "memory usage: 399.1+ MB\n"
     ]
    }
   ],
   "source": [
    "Bicis_Ciudad_2022.info()"
   ]
  },
  {
   "cell_type": "code",
   "execution_count": 24,
   "id": "5b07fec1-1bb0-4f1c-ba43-08a2055f87af",
   "metadata": {
    "tags": []
   },
   "outputs": [
    {
     "data": {
      "text/plain": [
       "Id_recorrido                  False\n",
       "duracion_recorrido            False\n",
       "fecha_origen_recorrido        False\n",
       "id_estacion_origen            False\n",
       "nombre_estacion_origen        False\n",
       "direccion_estacion_origen     False\n",
       "long_estacion_origen          False\n",
       "lat_estacion_origen           False\n",
       "fecha_destino_recorrido       False\n",
       "id_estacion_destino           False\n",
       "nombre_estacion_destino       False\n",
       "direccion_estacion_destino    False\n",
       "long_estacion_destino         False\n",
       "lat_estacion_destino          False\n",
       "id_usuario                    False\n",
       "modelo_bicicleta              False\n",
       "género                         True\n",
       "dtype: bool"
      ]
     },
     "execution_count": 24,
     "metadata": {},
     "output_type": "execute_result"
    }
   ],
   "source": [
    "Bicis_Ciudad_2023.isnull().any()"
   ]
  },
  {
   "cell_type": "code",
   "execution_count": 25,
   "id": "bc28a02b-fa52-4303-b3d2-dabcbd953854",
   "metadata": {},
   "outputs": [],
   "source": [
    "Bicis_Ciudad_2023.dropna(how='any',inplace=True)"
   ]
  },
  {
   "cell_type": "code",
   "execution_count": 26,
   "id": "e35aa1bc-d985-46a2-8a7b-c76e71d06ef0",
   "metadata": {},
   "outputs": [
    {
     "data": {
      "text/plain": [
       "Id_recorrido                  False\n",
       "duracion_recorrido            False\n",
       "fecha_origen_recorrido        False\n",
       "id_estacion_origen            False\n",
       "nombre_estacion_origen        False\n",
       "direccion_estacion_origen     False\n",
       "long_estacion_origen          False\n",
       "lat_estacion_origen           False\n",
       "fecha_destino_recorrido       False\n",
       "id_estacion_destino           False\n",
       "nombre_estacion_destino       False\n",
       "direccion_estacion_destino    False\n",
       "long_estacion_destino         False\n",
       "lat_estacion_destino          False\n",
       "id_usuario                    False\n",
       "modelo_bicicleta              False\n",
       "género                        False\n",
       "dtype: bool"
      ]
     },
     "execution_count": 26,
     "metadata": {},
     "output_type": "execute_result"
    }
   ],
   "source": [
    "Bicis_Ciudad_2023.isnull().any()"
   ]
  },
  {
   "cell_type": "code",
   "execution_count": 27,
   "id": "7cade662-a026-4069-8d19-22050e8b489b",
   "metadata": {},
   "outputs": [
    {
     "name": "stdout",
     "output_type": "stream",
     "text": [
      "<class 'pandas.core.frame.DataFrame'>\n",
      "Int64Index: 1470688 entries, 1 to 1477842\n",
      "Data columns (total 17 columns):\n",
      " #   Column                      Non-Null Count    Dtype  \n",
      "---  ------                      --------------    -----  \n",
      " 0   Id_recorrido                1470688 non-null  object \n",
      " 1   duracion_recorrido          1470688 non-null  object \n",
      " 2   fecha_origen_recorrido      1470688 non-null  object \n",
      " 3   id_estacion_origen          1470688 non-null  object \n",
      " 4   nombre_estacion_origen      1470688 non-null  object \n",
      " 5   direccion_estacion_origen   1470688 non-null  object \n",
      " 6   long_estacion_origen        1470688 non-null  float64\n",
      " 7   lat_estacion_origen         1470688 non-null  float64\n",
      " 8   fecha_destino_recorrido     1470688 non-null  object \n",
      " 9   id_estacion_destino         1470688 non-null  object \n",
      " 10  nombre_estacion_destino     1470688 non-null  object \n",
      " 11  direccion_estacion_destino  1470688 non-null  object \n",
      " 12  long_estacion_destino       1470688 non-null  float64\n",
      " 13  lat_estacion_destino        1470688 non-null  float64\n",
      " 14  id_usuario                  1470688 non-null  object \n",
      " 15  modelo_bicicleta            1470688 non-null  object \n",
      " 16  género                      1470688 non-null  object \n",
      "dtypes: float64(4), object(13)\n",
      "memory usage: 202.0+ MB\n"
     ]
    }
   ],
   "source": [
    "Bicis_Ciudad_2023.info()"
   ]
  },
  {
   "cell_type": "code",
   "execution_count": 28,
   "id": "65a53b98-847f-4690-8679-21cd5d6a6056",
   "metadata": {},
   "outputs": [],
   "source": [
    "CABA_Bicis = pd.concat([Bicis_Ciudad_2019, Bicis_Ciudad_2020, Bicis_Ciudad_2021, Bicis_Ciudad_2022, Bicis_Ciudad_2023], axis=0)"
   ]
  },
  {
   "cell_type": "code",
   "execution_count": 30,
   "id": "f7b8af73-b178-47af-9a72-9c7f6a987b32",
   "metadata": {
    "tags": []
   },
   "outputs": [
    {
     "name": "stdout",
     "output_type": "stream",
     "text": [
      "<class 'pandas.core.frame.DataFrame'>\n",
      "Int64Index: 14195257 entries, 1 to 1477842\n",
      "Data columns (total 17 columns):\n",
      " #   Column                      Dtype  \n",
      "---  ------                      -----  \n",
      " 0   Id_recorrido                object \n",
      " 1   duracion_recorrido          object \n",
      " 2   fecha_origen_recorrido      object \n",
      " 3   id_estacion_origen          object \n",
      " 4   nombre_estacion_origen      object \n",
      " 5   direccion_estacion_origen   object \n",
      " 6   long_estacion_origen        float64\n",
      " 7   lat_estacion_origen         float64\n",
      " 8   fecha_destino_recorrido     object \n",
      " 9   id_estacion_destino         object \n",
      " 10  nombre_estacion_destino     object \n",
      " 11  direccion_estacion_destino  object \n",
      " 12  long_estacion_destino       float64\n",
      " 13  lat_estacion_destino        object \n",
      " 14  id_usuario                  object \n",
      " 15  modelo_bicicleta            object \n",
      " 16  género                      object \n",
      "dtypes: float64(3), object(14)\n",
      "memory usage: 1.9+ GB\n"
     ]
    }
   ],
   "source": [
    "CABA_Bicis.info()"
   ]
  },
  {
   "cell_type": "code",
   "execution_count": 31,
   "id": "7f038982-8cfd-42f1-9407-605a05bc515b",
   "metadata": {
    "tags": []
   },
   "outputs": [
    {
     "data": {
      "text/plain": [
       "Id_recorrido                  False\n",
       "duracion_recorrido            False\n",
       "fecha_origen_recorrido        False\n",
       "id_estacion_origen            False\n",
       "nombre_estacion_origen        False\n",
       "direccion_estacion_origen     False\n",
       "long_estacion_origen          False\n",
       "lat_estacion_origen           False\n",
       "fecha_destino_recorrido       False\n",
       "id_estacion_destino           False\n",
       "nombre_estacion_destino       False\n",
       "direccion_estacion_destino    False\n",
       "long_estacion_destino         False\n",
       "lat_estacion_destino          False\n",
       "id_usuario                    False\n",
       "modelo_bicicleta              False\n",
       "género                        False\n",
       "dtype: bool"
      ]
     },
     "execution_count": 31,
     "metadata": {},
     "output_type": "execute_result"
    }
   ],
   "source": [
    "CABA_Bicis.isnull().any()"
   ]
  },
  {
   "cell_type": "code",
   "execution_count": 32,
   "id": "86a15db5-c193-482b-8fa0-ca87fce44329",
   "metadata": {},
   "outputs": [],
   "source": [
    "CABA_Bicis.to_csv(\"CABA_Bicis.csv\", index=False)"
   ]
  },
  {
   "cell_type": "code",
   "execution_count": null,
   "id": "ad8daf37-c78d-4afa-b134-4a274a9fa9a9",
   "metadata": {},
   "outputs": [],
   "source": []
  }
 ],
 "metadata": {
  "kernelspec": {
   "display_name": "Python 3 (ipykernel)",
   "language": "python",
   "name": "python3"
  },
  "language_info": {
   "codemirror_mode": {
    "name": "ipython",
    "version": 3
   },
   "file_extension": ".py",
   "mimetype": "text/x-python",
   "name": "python",
   "nbconvert_exporter": "python",
   "pygments_lexer": "ipython3",
   "version": "3.9.5"
  }
 },
 "nbformat": 4,
 "nbformat_minor": 5
}
